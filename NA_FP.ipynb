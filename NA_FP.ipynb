{
 "cells": [
  {
   "cell_type": "code",
   "execution_count": 15,
   "metadata": {},
   "outputs": [
    {
     "name": "stdout",
     "output_type": "stream",
     "text": [
      "Condition number for the first case: 5.67583653756e+15\n",
      "Condition number for the second case: 46922311139.8\n",
      "Condition number for the third case: 155406.290341\n"
     ]
    },
    {
     "data": {
      "image/png": "[encoded data removed]",
      "text/plain": [
       "<matplotlib.figure.Figure at 0x1d69f37cb00>"
      ]
     },
     "metadata": {},
     "output_type": "display_data"
    },
    {
     "name": "stdout",
     "output_type": "stream",
     "text": [
      "[  6.62623020e+00  -3.63072317e+00   1.01450815e+01   4.18132057e+01\n",
      "  -2.31844985e+02  -1.63758809e+02   1.46278133e+03   1.10087990e+02\n",
      "  -3.81497983e+03   2.49178286e+02   4.30371977e+03  -2.55729413e+02\n",
      "  -1.73723919e+03]\n"
     ]
    }
   ],
   "source": [
    "import numpy as np\n",
    "import matplotlib.pyplot as plt\n",
    "\n",
    "##PROJECT SUGGESTION 2\n",
    "#Initialize the data points, t denotes the year, s the sea ice in million square kilometers\n",
    "t = [1979, 1982, 1985, 1988, 1991, 1994, 1997, 2000, 2003, 2006, 2009, 2012, 2015]\n",
    "s = [7.00, 7.34, 6.79, 7.47, 6.46, 7.15, 6.85, 6.37, 6.21, 5.97, 5.31, 3.40, 4.59]\n",
    "\n",
    "#J is computed given the number of data points (13)\n",
    "J = 13\n",
    "\n",
    "#Computing the Vandermonde matrices for each case of the given basis functions, the increasing parameter is set to\n",
    "#True in order for the columns to be at x^0, x^1, ..., x^(N-1) form\n",
    "a = np.vander(t, J, increasing=True)\n",
    "b = np.vander([x - 1978 for x in t], J, increasing=True)\n",
    "c = np.vander([(x - 1998)/18 for x in t], J, increasing=True)\n",
    "\n",
    "#Computing the condition number for each case\n",
    "cond_a = np.linalg.cond(a)\n",
    "cond_b = np.linalg.cond(b)\n",
    "cond_c = np.linalg.cond(c)\n",
    "\n",
    "#Print the condition numbers. We observe that the smallest number is for the third case, \n",
    "#thus it'll be our choice as a basis function.\n",
    "print('Condition number for the first case:', cond_a)\n",
    "print('Condition number for the second case:', cond_b)\n",
    "print('Condition number for the third case:', cond_c)\n",
    "\n",
    "##PROJECT SUGGESTION 3\n",
    "#Compute the coefficients for the interpolation function\n",
    "coeff = np.linalg.solve(c,s)\n",
    "\n",
    "\n",
    "def inter_func(t_i, J, coeff):\n",
    "    out = 0\n",
    "    for j in range(J):\n",
    "        out = out + pow((t_i - 1998) / 18.0, j ) * coeff[j]\n",
    "\n",
    "    return out\n",
    "\n",
    "t_updated = np.linspace(1979, 2015, 444)\n",
    "\n",
    "#Plot data points and function\n",
    "plt.plot(t_updated, [inter_func(t_i, J, coeff) for t_i in t_updated], t, s, 'ro')\n",
    "plt.show()\n",
    "\n",
    "print(coeff)\n"
   ]
  },
  {
   "cell_type": "code",
   "execution_count": null,
   "metadata": {
    "collapsed": true
   },
   "outputs": [],
   "source": []
  }
 ],
 "metadata": {
  "kernelspec": {
   "display_name": "Python 3",
   "language": "python",
   "name": "python3"
  },
  "language_info": {
   "codemirror_mode": {
    "name": "ipython",
    "version": 3
   },
   "file_extension": ".py",
   "mimetype": "text/x-python",
   "name": "python",
   "nbconvert_exporter": "python",
   "pygments_lexer": "ipython3",
   "version": "3.6.3"
  }
 },
 "nbformat": 4,
 "nbformat_minor": 2
}
